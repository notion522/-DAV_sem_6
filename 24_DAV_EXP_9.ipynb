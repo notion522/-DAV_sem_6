{
  "nbformat": 4,
  "nbformat_minor": 0,
  "metadata": {
    "colab": {
      "provenance": [],
      "include_colab_link": true
    },
    "kernelspec": {
      "name": "python3",
      "display_name": "Python 3"
    },
    "language_info": {
      "name": "python"
    }
  },
  "cells": [
    {
      "cell_type": "markdown",
      "metadata": {
        "id": "view-in-github",
        "colab_type": "text"
      },
      "source": [
        "<a href=\"https://colab.research.google.com/github/notion522/DAV_Sem_6/blob/main/24_DAV_EXP_9.ipynb\" target=\"_parent\"><img src=\"https://colab.research.google.com/assets/colab-badge.svg\" alt=\"Open In Colab\"/></a>"
      ]
    },
    {
      "cell_type": "markdown",
      "source": [
        "# AIM:\n",
        "Create a World Map with d3.js"
      ],
      "metadata": {
        "id": "2LGuIZpI6s-D"
      }
    },
    {
      "cell_type": "code",
      "source": [
        "%%html\n",
        "<!DOCTYPE html>\n",
        "<html>\n",
        "\n",
        "<head>\n",
        "    <title>D3.js World Map</title>\n",
        "    <link rel=\"stylesheet\" href=\"styles.css\">\n",
        "    <script src=\"https://d3js.org/d3.v5.min.js\"></script>\n",
        "    <script src=\"https://unpkg.com/topojson@3.0.2/dist/topojson.min.js\"></script>\n",
        "    <style>\n",
        "        body {\n",
        "            margin: 0px;\n",
        "            overflow: hidden;\n",
        "        }\n",
        "\n",
        "        .sphere {\n",
        "            fill: lightblue;\n",
        "        }\n",
        "\n",
        "        .country {\n",
        "            fill: lightgreen;\n",
        "            stroke: black;\n",
        "            stroke-opacity: 0.32;\n",
        "        }\n",
        "    </style>\n",
        "</head>\n",
        "\n",
        "<body>\n",
        "    <h1>World Map using D3.js</h1> <br>\n",
        "    <svg width=\"960\" height=\"500\"></svg>\n",
        "    <script>\n",
        "        const svg = d3.select('svg');\n",
        "        const projection = d3.geoNaturalEarth1();\n",
        "        const pathGenerator = d3.geoPath().projection(projection);\n",
        "\n",
        "        svg.append('path')\n",
        "            .attr('class', 'sphere')\n",
        "            .attr('d', pathGenerator({ type: 'Sphere' }));\n",
        "\n",
        "        d3.json('https://unpkg.com/world-atlas@1.1.4/world/110m.json')\n",
        "            .then(data => {\n",
        "                const countries = topojson.feature(data, data.objects.countries);\n",
        "                svg.selectAll('path').data(countries.features)\n",
        "                    .enter().append('path')\n",
        "                    .attr('class', 'country')\n",
        "                    .attr('d', pathGenerator);\n",
        "            });\n",
        "    </script>\n",
        "</body>\n",
        "\n",
        "</html>"
      ],
      "metadata": {
        "colab": {
          "resources": {
            "http://localhost:8080/styles.css": {
              "data": "CjwhRE9DVFlQRSBodG1sPgo8aHRtbCBsYW5nPWVuPgogIDxtZXRhIGNoYXJzZXQ9dXRmLTg+CiAgPG1ldGEgbmFtZT12aWV3cG9ydCBjb250ZW50PSJpbml0aWFsLXNjYWxlPTEsIG1pbmltdW0tc2NhbGU9MSwgd2lkdGg9ZGV2aWNlLXdpZHRoIj4KICA8dGl0bGU+RXJyb3IgNDA0IChOb3QgRm91bmQpISExPC90aXRsZT4KICA8c3R5bGU+CiAgICAqe21hcmdpbjowO3BhZGRpbmc6MH1odG1sLGNvZGV7Zm9udDoxNXB4LzIycHggYXJpYWwsc2Fucy1zZXJpZn1odG1se2JhY2tncm91bmQ6I2ZmZjtjb2xvcjojMjIyO3BhZGRpbmc6MTVweH1ib2R5e21hcmdpbjo3JSBhdXRvIDA7bWF4LXdpZHRoOjM5MHB4O21pbi1oZWlnaHQ6MTgwcHg7cGFkZGluZzozMHB4IDAgMTVweH0qID4gYm9keXtiYWNrZ3JvdW5kOnVybCgvL3d3dy5nb29nbGUuY29tL2ltYWdlcy9lcnJvcnMvcm9ib3QucG5nKSAxMDAlIDVweCBuby1yZXBlYXQ7cGFkZGluZy1yaWdodDoyMDVweH1we21hcmdpbjoxMXB4IDAgMjJweDtvdmVyZmxvdzpoaWRkZW59aW5ze2NvbG9yOiM3Nzc7dGV4dC1kZWNvcmF0aW9uOm5vbmV9YSBpbWd7Ym9yZGVyOjB9QG1lZGlhIHNjcmVlbiBhbmQgKG1heC13aWR0aDo3NzJweCl7Ym9keXtiYWNrZ3JvdW5kOm5vbmU7bWFyZ2luLXRvcDowO21heC13aWR0aDpub25lO3BhZGRpbmctcmlnaHQ6MH19I2xvZ297YmFja2dyb3VuZDp1cmwoLy93d3cuZ29vZ2xlLmNvbS9pbWFnZXMvbG9nb3MvZXJyb3JwYWdlL2Vycm9yX2xvZ28tMTUweDU0LnBuZykgbm8tcmVwZWF0O21hcmdpbi1sZWZ0Oi01cHh9QG1lZGlhIG9ubHkgc2NyZWVuIGFuZCAobWluLXJlc29sdXRpb246MTkyZHBpKXsjbG9nb3tiYWNrZ3JvdW5kOnVybCgvL3d3dy5nb29nbGUuY29tL2ltYWdlcy9sb2dvcy9lcnJvcnBhZ2UvZXJyb3JfbG9nby0xNTB4NTQtMngucG5nKSBuby1yZXBlYXQgMCUgMCUvMTAwJSAxMDAlOy1tb3otYm9yZGVyLWltYWdlOnVybCgvL3d3dy5nb29nbGUuY29tL2ltYWdlcy9sb2dvcy9lcnJvcnBhZ2UvZXJyb3JfbG9nby0xNTB4NTQtMngucG5nKSAwfX1AbWVkaWEgb25seSBzY3JlZW4gYW5kICgtd2Via2l0LW1pbi1kZXZpY2UtcGl4ZWwtcmF0aW86Mil7I2xvZ297YmFja2dyb3VuZDp1cmwoLy93d3cuZ29vZ2xlLmNvbS9pbWFnZXMvbG9nb3MvZXJyb3JwYWdlL2Vycm9yX2xvZ28tMTUweDU0LTJ4LnBuZykgbm8tcmVwZWF0Oy13ZWJraXQtYmFja2dyb3VuZC1zaXplOjEwMCUgMTAwJX19I2xvZ297ZGlzcGxheTppbmxpbmUtYmxvY2s7aGVpZ2h0OjU0cHg7d2lkdGg6MTUwcHh9CiAgPC9zdHlsZT4KICA8YSBocmVmPS8vd3d3Lmdvb2dsZS5jb20vPjxzcGFuIGlkPWxvZ28gYXJpYS1sYWJlbD1Hb29nbGU+PC9zcGFuPjwvYT4KICA8cD48Yj40MDQuPC9iPiA8aW5zPlRoYXTigJlzIGFuIGVycm9yLjwvaW5zPgogIDxwPiAgPGlucz5UaGF04oCZcyBhbGwgd2Uga25vdy48L2lucz4K",
              "ok": false,
              "headers": [
                [
                  "content-length",
                  "1449"
                ],
                [
                  "content-type",
                  "text/html; charset=utf-8"
                ]
              ],
              "status": 404,
              "status_text": ""
            }
          },
          "base_uri": "https://localhost:8080/",
          "height": 596
        },
        "id": "wxjlIdpx6j79",
        "outputId": "38c3cf6d-092d-4d1b-c8dc-4ed31d2db1d2"
      },
      "execution_count": 14,
      "outputs": [
        {
          "output_type": "display_data",
          "data": {
            "text/plain": [
              "<IPython.core.display.HTML object>"
            ],
            "text/html": [
              "<!DOCTYPE html>\n",
              "<html>\n",
              "\n",
              "<head>\n",
              "    <title>D3.js World Map</title>\n",
              "    <link rel=\"stylesheet\" href=\"styles.css\">\n",
              "    <script src=\"https://d3js.org/d3.v5.min.js\"></script>\n",
              "    <script src=\"https://unpkg.com/topojson@3.0.2/dist/topojson.min.js\"></script>\n",
              "    <style>\n",
              "        body {\n",
              "            margin: 0px;\n",
              "            overflow: hidden;\n",
              "        }\n",
              "\n",
              "        .sphere {\n",
              "            fill: lightblue;\n",
              "        }\n",
              "\n",
              "        .country {\n",
              "            fill: lightgreen;\n",
              "            stroke: black;\n",
              "            stroke-opacity: 0.32;\n",
              "        }\n",
              "    </style>\n",
              "</head>\n",
              "\n",
              "<body>\n",
              "    <h1>World Map using D3.js</h1> <br>\n",
              "    <svg width=\"960\" height=\"500\"></svg>\n",
              "    <script>\n",
              "        const svg = d3.select('svg');\n",
              "        const projection = d3.geoNaturalEarth1();\n",
              "        const pathGenerator = d3.geoPath().projection(projection);\n",
              "\n",
              "        svg.append('path')\n",
              "            .attr('class', 'sphere')\n",
              "            .attr('d', pathGenerator({ type: 'Sphere' }));\n",
              "\n",
              "        d3.json('https://unpkg.com/world-atlas@1.1.4/world/110m.json')\n",
              "            .then(data => {\n",
              "                const countries = topojson.feature(data, data.objects.countries);\n",
              "                svg.selectAll('path').data(countries.features)\n",
              "                    .enter().append('path')\n",
              "                    .attr('class', 'country')\n",
              "                    .attr('d', pathGenerator);\n",
              "            });\n",
              "    </script>\n",
              "</body>\n",
              "\n",
              "</html>\n"
            ]
          },
          "metadata": {}
        }
      ]
    }
  ]
}