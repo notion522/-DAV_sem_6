{
  "nbformat": 4,
  "nbformat_minor": 0,
  "metadata": {
    "colab": {
      "provenance": [],
      "gpuType": "T4",
      "include_colab_link": true
    },
    "kernelspec": {
      "name": "python3",
      "display_name": "Python 3"
    },
    "language_info": {
      "name": "python"
    },
    "accelerator": "GPU"
  },
  "cells": [
    {
      "cell_type": "markdown",
      "metadata": {
        "id": "view-in-github",
        "colab_type": "text"
      },
      "source": [
        "<a href=\"https://colab.research.google.com/github/notion522/DAV_Sem_6/blob/main/24_DAV_EXP_8.ipynb\" target=\"_parent\"><img src=\"https://colab.research.google.com/assets/colab-badge.svg\" alt=\"Open In Colab\"/></a>"
      ]
    },
    {
      "cell_type": "markdown",
      "source": [
        "Experiment No - 08\n",
        "\n",
        "\n"
      ],
      "metadata": {
        "id": "8gp4VdKTTLAI"
      }
    },
    {
      "cell_type": "markdown",
      "source": [
        "Aim - Set Up a D3.js Environment, Select Elements in D3, Modify Elements in D3,Data Loading in D3."
      ],
      "metadata": {
        "id": "BkaS7iiMTAT5"
      }
    },
    {
      "cell_type": "markdown",
      "source": [
        "#SELECT ELEMENTS AND MODIFY\n",
        "#DATA LOADING\n",
        "\n",
        "---\n",
        "\n",
        "\n",
        "\n",
        "\n"
      ],
      "metadata": {
        "id": "XDypTFhGQsZW"
      }
    },
    {
      "cell_type": "code",
      "source": [
        "%%html\n",
        "<!DOCTYPE html>\n",
        "<meta charset=\"utf-8\">\n",
        "\n",
        "<!-- Load d3.js -->\n",
        "<script src=\"https://d3js.org/d3.v4.js\"></script>\n",
        "\n",
        "<!-- Function for radial charts -->\n",
        "<script src=\"https://cdn.jsdelivr.net/gh/holtzy/D3-graph-gallery@master/LIB/d3-scale-radial.js\"></script>\n",
        "\n",
        "<!-- Create a div where the graph will take place -->\n",
        "<div id=\"my_dataviz\"></div>\n",
        "<script>\n",
        "\n",
        "// set the dimensions and margins of the graph\n",
        "var margin = {top: 10, right: 10, bottom: 10, left: 10},\n",
        "    width = 460 - margin.left - margin.right,\n",
        "    height = 460 - margin.top - margin.bottom,\n",
        "    innerRadius = 80,\n",
        "    outerRadius = Math.min(width, height) / 2;\n",
        "\n",
        "\n",
        "var svg = d3.select(\"#my_dataviz\")\n",
        "  .append(\"svg\")\n",
        "    .attr(\"width\", width + margin.left + margin.right)\n",
        "    .attr(\"height\", height + margin.top + margin.bottom)\n",
        "  .append(\"g\")\n",
        "    .attr(\"transform\", \"translate(\" + width / 2 + \",\" + ( height/2+100 )+ \")\");\n",
        "\n",
        "d3.csv(\"https://raw.githubusercontent.com/holtzy/data_to_viz/master/Example_dataset/7_OneCatOneNum.csv\", function(data) {\n",
        "\n",
        "  // X scale\n",
        "  var x = d3.scaleBand()\n",
        "      .range([0, 2 * Math.PI])\n",
        "      .align(0)\n",
        "      .domain( data.map(function(d) { return d.Country; }) );\n",
        "  // Y scale\n",
        "  var y = d3.scaleRadial()\n",
        "      .range([innerRadius, outerRadius])\n",
        "      .domain([0, 10000]);\n",
        "\n",
        "\n",
        "  svg.append(\"g\")\n",
        "    .selectAll(\"path\")\n",
        "    .data(data)\n",
        "    .enter()\n",
        "    .append(\"path\")\n",
        "      .attr(\"fill\", \"#69b3a2\")\n",
        "      .attr(\"d\", d3.arc()\n",
        "          .innerRadius(innerRadius)\n",
        "          .outerRadius(function(d) { return y(d['Value']); })\n",
        "          .startAngle(function(d) { return x(d.Country); })\n",
        "          .endAngle(function(d) { return x(d.Country) + x.bandwidth(); })\n",
        "          .padAngle(0.01)\n",
        "          .padRadius(innerRadius))\n",
        "\n",
        "});\n",
        "\n",
        "</script>"
      ],
      "metadata": {
        "id": "odC72BmoOoGs",
        "colab": {
          "base_uri": "https://localhost:8080/",
          "height": 481
        },
        "outputId": "4e2c94ec-8256-4e01-cc1b-32f549dda794"
      },
      "execution_count": null,
      "outputs": [
        {
          "output_type": "display_data",
          "data": {
            "text/plain": [
              "<IPython.core.display.HTML object>"
            ],
            "text/html": [
              "<!DOCTYPE html>\n",
              "<meta charset=\"utf-8\">\n",
              "\n",
              "<!-- Load d3.js -->\n",
              "<script src=\"https://d3js.org/d3.v4.js\"></script>\n",
              "\n",
              "<!-- Function for radial charts -->\n",
              "<script src=\"https://cdn.jsdelivr.net/gh/holtzy/D3-graph-gallery@master/LIB/d3-scale-radial.js\"></script>\n",
              "\n",
              "<!-- Create a div where the graph will take place -->\n",
              "<div id=\"my_dataviz\"></div>\n",
              "<script>\n",
              "\n",
              "// set the dimensions and margins of the graph\n",
              "var margin = {top: 10, right: 10, bottom: 10, left: 10},\n",
              "    width = 460 - margin.left - margin.right,\n",
              "    height = 460 - margin.top - margin.bottom,\n",
              "    innerRadius = 80,\n",
              "    outerRadius = Math.min(width, height) / 2;   // the outerRadius goes from the middle of the SVG area to the border\n",
              "\n",
              "// append the svg object to the body of the page\n",
              "var svg = d3.select(\"#my_dataviz\")\n",
              "  .append(\"svg\")\n",
              "    .attr(\"width\", width + margin.left + margin.right)\n",
              "    .attr(\"height\", height + margin.top + margin.bottom)\n",
              "  .append(\"g\")\n",
              "    .attr(\"transform\", \"translate(\" + width / 2 + \",\" + ( height/2+100 )+ \")\"); // Add 100 on Y translation, cause upper bars are longer\n",
              "\n",
              "d3.csv(\"https://raw.githubusercontent.com/holtzy/data_to_viz/master/Example_dataset/7_OneCatOneNum.csv\", function(data) {\n",
              "\n",
              "  // X scale\n",
              "  var x = d3.scaleBand()\n",
              "      .range([0, 2 * Math.PI])    // X axis goes from 0 to 2pi = all around the circle. If I stop at 1Pi, it will be around a half circle\n",
              "      .align(0)                  // This does nothing ?\n",
              "      .domain( data.map(function(d) { return d.Country; }) ); // The domain of the X axis is the list of states.\n",
              "\n",
              "  // Y scale\n",
              "  var y = d3.scaleRadial()\n",
              "      .range([innerRadius, outerRadius])   // Domain will be define later.\n",
              "      .domain([0, 10000]); // Domain of Y is from 0 to the max seen in the data\n",
              "\n",
              "  // Add bars\n",
              "  svg.append(\"g\")\n",
              "    .selectAll(\"path\")\n",
              "    .data(data)\n",
              "    .enter()\n",
              "    .append(\"path\")\n",
              "      .attr(\"fill\", \"#69b3a2\")\n",
              "      .attr(\"d\", d3.arc()     // imagine your doing a part of a donut plot\n",
              "          .innerRadius(innerRadius)\n",
              "          .outerRadius(function(d) { return y(d['Value']); })\n",
              "          .startAngle(function(d) { return x(d.Country); })\n",
              "          .endAngle(function(d) { return x(d.Country) + x.bandwidth(); })\n",
              "          .padAngle(0.01)\n",
              "          .padRadius(innerRadius))\n",
              "\n",
              "});\n",
              "\n",
              "</script>\n"
            ]
          },
          "metadata": {}
        }
      ]
    },
    {
      "cell_type": "markdown",
      "source": [
        "##ANIMATIONS"
      ],
      "metadata": {
        "id": "wda9YwJFS56X"
      }
    },
    {
      "cell_type": "code",
      "source": [
        "%%html\n",
        "<!DOCTYPE html>\n",
        "<html lang=\"en\">\n",
        "<head>\n",
        "    <meta charset=\"UTF-8\">\n",
        "    <meta name=\"viewport\" content=\"width=device-width, initial-scale=1.0\">\n",
        "    <title>Rotating Rectangle Animation</title>\n",
        "    <style>\n",
        "\n",
        "        #rectangle {\n",
        "            width: 100px;\n",
        "            height: 50px;\n",
        "            fill: blue;\n",
        "        }\n",
        "    </style>\n",
        "</head>\n",
        "<body>\n",
        "    <svg id=\"container\"></svg>\n",
        "\n",
        "    <script src=\"https://d3js.org/d3.v7.min.js\"></script>\n",
        "    <script>\n",
        "        const svg = d3.select(\"#container\")\n",
        "            .attr(\"width\", 400)\n",
        "            .attr(\"height\", 400);\n",
        "\n",
        "        const rect = svg.append(\"rect\")\n",
        "            .attr(\"id\", \"rectangle\")\n",
        "            .attr(\"x\", 50)\n",
        "            .attr(\"y\", 50)\n",
        "            .attr(\"width\", 100)\n",
        "            .attr(\"height\", 50)\n",
        "            .attr(\"fill\", \"blue\");\n",
        "\n",
        "        function rotateRect() {\n",
        "            rect.transition()\n",
        "                .duration(2000)\n",
        "                .attrTween(\"transform\", function () {\n",
        "                    return d3.interpolateString(\"rotate(0, 100, 75)\", \"rotate(360, 100, 75)\");\n",
        "                })\n",
        "                .on(\"end\", rotateRect);\n",
        "        }\n",
        "\n",
        "        rotateRect();\n",
        "    </script>\n",
        "</body>\n",
        "</html>\n"
      ],
      "metadata": {
        "colab": {
          "base_uri": "https://localhost:8080/",
          "height": 421
        },
        "id": "ndMUtNyD7feT",
        "outputId": "2b038c29-8be0-443d-ae20-c1fcadfa116a"
      },
      "execution_count": 5,
      "outputs": [
        {
          "output_type": "display_data",
          "data": {
            "text/plain": [
              "<IPython.core.display.HTML object>"
            ],
            "text/html": [
              "<!DOCTYPE html>\n",
              "<html lang=\"en\">\n",
              "<head>\n",
              "    <meta charset=\"UTF-8\">\n",
              "    <meta name=\"viewport\" content=\"width=device-width, initial-scale=1.0\">\n",
              "    <title>Rotating Rectangle Animation</title>\n",
              "    <style>\n",
              "       \n",
              "        #rectangle {\n",
              "            width: 100px;\n",
              "            height: 50px;\n",
              "            fill: blue;\n",
              "        }\n",
              "    </style>\n",
              "</head>\n",
              "<body>\n",
              "    <svg id=\"container\"></svg>\n",
              "\n",
              "    <script src=\"https://d3js.org/d3.v7.min.js\"></script>\n",
              "    <script>\n",
              "        const svg = d3.select(\"#container\")\n",
              "            .attr(\"width\", 400)\n",
              "            .attr(\"height\", 400);\n",
              "\n",
              "        const rect = svg.append(\"rect\")\n",
              "            .attr(\"id\", \"rectangle\")\n",
              "            .attr(\"x\", 50)\n",
              "            .attr(\"y\", 50)\n",
              "            .attr(\"width\", 100)\n",
              "            .attr(\"height\", 50)\n",
              "            .attr(\"fill\", \"blue\");\n",
              "\n",
              "        function rotateRect() {\n",
              "            rect.transition()\n",
              "                .duration(2000)\n",
              "                .attrTween(\"transform\", function () {\n",
              "                    return d3.interpolateString(\"rotate(0, 100, 75)\", \"rotate(360, 100, 75)\");\n",
              "                })\n",
              "                .on(\"end\", rotateRect);\n",
              "        }\n",
              "\n",
              "        rotateRect();\n",
              "    </script>\n",
              "</body>\n",
              "</html>\n"
            ]
          },
          "metadata": {}
        }
      ]
    }
  ]
}