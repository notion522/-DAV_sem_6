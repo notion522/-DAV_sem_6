{
  "nbformat": 4,
  "nbformat_minor": 0,
  "metadata": {
    "colab": {
      "provenance": [],
      "include_colab_link": true
    },
    "kernelspec": {
      "name": "python3",
      "display_name": "Python 3"
    },
    "language_info": {
      "name": "python"
    }
  },
  "cells": [
    {
      "cell_type": "markdown",
      "metadata": {
        "id": "view-in-github",
        "colab_type": "text"
      },
      "source": [
        "<a href=\"https://colab.research.google.com/github/notion522/DAV_Sem_6/blob/main/24_DAV_EXP_10.ipynb\" target=\"_parent\"><img src=\"https://colab.research.google.com/assets/colab-badge.svg\" alt=\"Open In Colab\"/></a>"
      ]
    },
    {
      "cell_type": "markdown",
      "source": [
        "# **AIM** : Event handling in d3.js"
      ],
      "metadata": {
        "id": "2LGuIZpI6s-D"
      }
    },
    {
      "cell_type": "code",
      "source": [
        "%%html\n",
        "<!DOCTYPE html>\n",
        "<html lang=\"en\">\n",
        "<head>\n",
        "    <meta charset=\"UTF-8\">\n",
        "    <meta name=\"viewport\" content=\"width=device-width, initial-scale=1.0\">\n",
        "    <title>D3.js Event Handling</title>\n",
        "    <style>\n",
        "        circle {\n",
        "            fill: black;\n",
        "            stroke: none;\n",
        "        }\n",
        "\n",
        "        circle:hover {\n",
        "            fill: red;\n",
        "        }\n",
        "\n",
        "        .draggable {\n",
        "            cursor: move;\n",
        "        }\n",
        "    </style>\n",
        "</head>\n",
        "<body>\n",
        "    <svg width=\"400\" height=\"400\">\n",
        "        <g class=\"draggable\" transform=\"translate(50, 50)\">\n",
        "            <circle cx=\"0\" cy=\"0\" r=\"20\"></circle>\n",
        "        </g>\n",
        "        <g class=\"draggable\" transform=\"translate(150, 150)\">\n",
        "            <circle cx=\"0\" cy=\"0\" r=\"20\"></circle>\n",
        "        </g>\n",
        "    </svg>\n",
        "\n",
        "    <script src=\"https://d3js.org/d3.v7.min.js\"></script>\n",
        "    <script>\n",
        "        // Dragging\n",
        "        const drag = d3.drag()\n",
        "            .on(\"start\", dragStarted)\n",
        "            .on(\"drag\", dragged)\n",
        "            .on(\"end\", dragEnded);\n",
        "\n",
        "        d3.selectAll(\".draggable\").call(drag);\n",
        "\n",
        "        function dragStarted(event, d) {\n",
        "            d3.select(this).raise().attr(\"stroke\", \"black\");\n",
        "        }\n",
        "\n",
        "        function dragged(event, d) {\n",
        "            d3.select(this)\n",
        "                .attr(\"transform\", `translate(${event.x},${event.y})`);\n",
        "        }\n",
        "\n",
        "        function dragEnded(event, d) {\n",
        "            d3.select(this).attr(\"stroke\", null);\n",
        "        }\n",
        "    </script>\n",
        "</body>\n",
        "</html>\n"
      ],
      "metadata": {
        "colab": {
          "base_uri": "https://localhost:8080/",
          "height": 421
        },
        "id": "wxjlIdpx6j79",
        "outputId": "8d8930f7-1695-4fed-8532-9f92f23e670b"
      },
      "execution_count": 6,
      "outputs": [
        {
          "output_type": "display_data",
          "data": {
            "text/plain": [
              "<IPython.core.display.HTML object>"
            ],
            "text/html": [
              "<!DOCTYPE html>\n",
              "<html lang=\"en\">\n",
              "<head>\n",
              "    <meta charset=\"UTF-8\">\n",
              "    <meta name=\"viewport\" content=\"width=device-width, initial-scale=1.0\">\n",
              "    <title>D3.js Event Handling</title>\n",
              "    <style>\n",
              "        circle {\n",
              "            fill: black;\n",
              "            stroke: none;\n",
              "        }\n",
              "\n",
              "        circle:hover {\n",
              "            fill: red;\n",
              "        }\n",
              "\n",
              "        .draggable {\n",
              "            cursor: move;\n",
              "        }\n",
              "    </style>\n",
              "</head>\n",
              "<body>\n",
              "    <svg width=\"400\" height=\"400\">\n",
              "        <g class=\"draggable\" transform=\"translate(50, 50)\">\n",
              "            <circle cx=\"0\" cy=\"0\" r=\"20\"></circle>\n",
              "        </g>\n",
              "        <g class=\"draggable\" transform=\"translate(150, 150)\">\n",
              "            <circle cx=\"0\" cy=\"0\" r=\"20\"></circle>\n",
              "        </g>\n",
              "    </svg>\n",
              "\n",
              "    <script src=\"https://d3js.org/d3.v7.min.js\"></script>\n",
              "    <script>\n",
              "        // Dragging\n",
              "        const drag = d3.drag()\n",
              "            .on(\"start\", dragStarted)\n",
              "            .on(\"drag\", dragged)\n",
              "            .on(\"end\", dragEnded);\n",
              "\n",
              "        d3.selectAll(\".draggable\").call(drag);\n",
              "\n",
              "        function dragStarted(event, d) {\n",
              "            d3.select(this).raise().attr(\"stroke\", \"black\");\n",
              "        }\n",
              "\n",
              "        function dragged(event, d) {\n",
              "            d3.select(this)\n",
              "                .attr(\"transform\", `translate(${event.x},${event.y})`);\n",
              "        }\n",
              "\n",
              "        function dragEnded(event, d) {\n",
              "            d3.select(this).attr(\"stroke\", null);\n",
              "        }\n",
              "    </script>\n",
              "</body>\n",
              "</html>\n"
            ]
          },
          "metadata": {}
        }
      ]
    }
  ]
}